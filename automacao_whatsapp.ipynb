{
 "cells": [
  {
   "cell_type": "code",
   "execution_count": 16,
   "metadata": {},
   "outputs": [],
   "source": [
    "from selenium import webdriver\n",
    "from selenium.webdriver.chrome.service import service\n",
    "from selenium.webdriver.support import expected_conditions as EC\n",
    "from selenium.webdriver.support.ui import WebDriverWait\n",
    "from selenium.webdriver.common.by import By\n",
    "import pandas as pd\n",
    "import time\n",
    "\n",
    "# MODIFICAR OPÇÕES DO CHROME: \n",
    " # Utilizas-se -> webdriver.ChromeOptions:\n",
    "options = webdriver.ChromeOptions()\n",
    "options.add_argument(r'Caminho_do_Perfil')\n",
    "\n",
    " # Desativar o carregamento das imagens no site:\n",
    "# options.add_argument(\"--disable-images\")\n",
    "\n",
    " # Desativar a execução automática de Java Script:\n",
    "# options.add_argument(\"--disable-javascript\")\n",
    "\n",
    " # Desativar plugins:\n",
    "# options.add_argument(\"--disable-plugins\")\n",
    "\n",
    " # Desativar interface gráfica:\n",
    "options.add_argument(\"--headless\")\n",
    "\n",
    "browser = webdriver.Chrome(options=options)\n",
    "tabela = pd.read_excel(r'planilha_teste.xlsx')\n",
    "\n"
   ]
  },
  {
   "cell_type": "code",
   "execution_count": 17,
   "metadata": {},
   "outputs": [],
   "source": [
    "for linha in tabela.index:\n",
    "\n",
    "    # VOLTAR PARA O INÍCIO DO NAVEGADOR\n",
    "    browser.back()\n",
    "\n",
    "    # PUXAR NUMERO DOS CONTATOS DO BANCO DE DADOS    \n",
    "    numero = tabela.loc[linha, \"numero\"]\n",
    "\n",
    "    # CRIAR UMA CONVERSA COM LINK ESPECIAL DO PRÓPRIO WHATSAPP\n",
    "    link = f\"https://web.whatsapp.com/send?phone={numero}&text=teste\"\n",
    "    \n",
    "    browser.get(link)\n",
    "\n",
    "    time.sleep(5)\n",
    "\n",
    "    x = browser.find_elements(By.XPATH,'//*[@id=\"side\"]/div[1]/div/div[2]/div[2]/div/div[1]/p') \n",
    "\n",
    "    while True:\n",
    "        x = browser.find_elements(By.XPATH,'//*[@id=\"side\"]/div[1]/div/div[2]/div[2]/div/div[1]/p') \n",
    "        if x == 0:\n",
    "            time.sleep(1)\n",
    "        else:\n",
    "            break\n",
    "\n",
    "    # ESPERAR BOTÃO DE 'ENVIAR' APARECER NA TELA E ENVIAR A MENSAGEM (USANDO EXCEPTED CONDITIONS)\n",
    "    try:\n",
    "        wait = WebDriverWait(browser, 15)\n",
    "        element = wait.until(EC.element_to_be_clickable((By.XPATH, '//*[@id=\"main\"]/footer/div[1]/div/span[2]/div/div[2]/div[2]/button/span')))\n",
    "        browser.find_element(By.XPATH, '//*[@id=\"main\"]/footer/div[1]/div/span[2]/div/div[2]/div[2]/button/span').click()\n",
    "        time.sleep(1)\n",
    "    except:\n",
    "        pass\n",
    "    \n",
    "browser.quit()\n"
   ]
  }
 ],
 "metadata": {
  "kernelspec": {
   "display_name": "Python 3",
   "language": "python",
   "name": "python3"
  },
  "language_info": {
   "codemirror_mode": {
    "name": "ipython",
    "version": 3
   },
   "file_extension": ".py",
   "mimetype": "text/x-python",
   "name": "python",
   "nbconvert_exporter": "python",
   "pygments_lexer": "ipython3",
   "version": "3.12.1"
  }
 },
 "nbformat": 4,
 "nbformat_minor": 2
}
